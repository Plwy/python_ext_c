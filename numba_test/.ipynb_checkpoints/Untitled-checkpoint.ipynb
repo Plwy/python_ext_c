{
 "cells": [
  {
   "cell_type": "code",
   "execution_count": 6,
   "metadata": {},
   "outputs": [],
   "source": [
    "import numba as nb\n",
    "import numpy as np\n",
    "\n",
    "# 用numba加速的求和函数\n",
    "@nb.jit()\n",
    "def nb_sum(a):\n",
    "   Sum = 0\n",
    "   for i in range(len(a)):\n",
    "       Sum += a[i]\n",
    "   return Sum\n",
    "\n",
    "# 没用numba加速的求和函数\n",
    "def py_sum(a):\n",
    "   Sum = 0\n",
    "   for i in range(len(a)):\n",
    "       Sum += a[i]\n",
    "   return Sum"
   ]
  },
  {
   "cell_type": "code",
   "execution_count": 7,
   "metadata": {},
   "outputs": [
    {
     "name": "stdout",
     "output_type": "stream",
     "text": [
      "2.44 µs ± 23 ns per loop (mean ± std. dev. of 7 runs, 100000 loops each)\n",
      "10.7 µs ± 131 ns per loop (mean ± std. dev. of 7 runs, 100000 loops each)\n",
      "239 ns ± 5.3 ns per loop (mean ± std. dev. of 7 runs, 1000000 loops each)\n",
      "14.2 µs ± 124 ns per loop (mean ± std. dev. of 7 runs, 100000 loops each)\n"
     ]
    }
   ],
   "source": [
    "import numpy as np\n",
    "a = np.linspace(0,100,100) # 创建一个长度为100的数组\n",
    "\n",
    "%timeit np.sum(a) # numpy自带的求和函数\n",
    "%timeit sum(a) # python自带的求和函数\n",
    "%timeit nb_sum(a) # numba加速的求和函数\n",
    "%timeit py_sum(a) # 没加速的求和函数"
   ]
  },
  {
   "cell_type": "code",
   "execution_count": 11,
   "metadata": {},
   "outputs": [],
   "source": [
    "# 普通的 for\n",
    "def add1(x, c):\n",
    "    rs = [0.] * len(x)\n",
    "    for i, xx in enumerate(x):\n",
    "        rs[i] = xx + c\n",
    "    return rs\n",
    "\n",
    "# list comprehension\n",
    "def add2(x, c):\n",
    "    return [xx + c for xx in x]\n",
    "\n",
    "# 使用 jit 加速后的 for\n",
    "@nb.jit(nopython=True)\n",
    "def add_with_jit(x, c):\n",
    "    rs = [0.] * len(x)\n",
    "    for i, xx in enumerate(x):\n",
    "        rs[i] = xx + c\n",
    "    return rs"
   ]
  },
  {
   "cell_type": "code",
   "execution_count": 12,
   "metadata": {},
   "outputs": [
    {
     "name": "stdout",
     "output_type": "stream",
     "text": [
      "5.73 ms ± 82.2 µs per loop (mean ± std. dev. of 7 runs, 100 loops each)\n",
      "3.44 ms ± 38.3 µs per loop (mean ± std. dev. of 7 runs, 100 loops each)\n"
     ]
    },
    {
     "name": "stderr",
     "output_type": "stream",
     "text": [
      "/home/zsl/.local/lib/python3.6/site-packages/numba/ir_utils.py:1969: NumbaPendingDeprecationWarning: \n",
      "Encountered the use of a type that is scheduled for deprecation: type 'reflected list' found for argument 'x' of function 'add_with_jit'.\n",
      "\n",
      "For more information visit http://numba.pydata.org/numba-doc/latest/reference/deprecation.html#deprecation-of-reflection-for-list-and-set-types\n",
      "\n",
      "File \"<ipython-input-11-6a8baed73f40>\", line 14:\n",
      "@nb.jit(nopython=True)\n",
      "def add_with_jit(x, c):\n",
      "^\n",
      "\n",
      "  warnings.warn(NumbaPendingDeprecationWarning(msg, loc=loc))\n"
     ]
    },
    {
     "name": "stdout",
     "output_type": "stream",
     "text": [
      "85.4 ms ± 1.06 ms per loop (mean ± std. dev. of 7 runs, 10 loops each)\n"
     ]
    }
   ],
   "source": [
    "y = np.random.random(10**5).astype(np.float32)\n",
    "x = y.tolist()\n",
    "\n",
    "assert np.allclose(add1(x, 1), add2(x, 1), add_with_jit(x, 1))\n",
    "%timeit add1(x, 1)\n",
    "%timeit add2(x, 1)\n",
    "%timeit add_with_jit(x, 1)\n",
    "print(np.allclose(wrong_add(x, 1), 1))"
   ]
  },
  {
   "cell_type": "code",
   "execution_count": null,
   "metadata": {},
   "outputs": [],
   "source": []
  }
 ],
 "metadata": {
  "kernelspec": {
   "display_name": "Python 3",
   "language": "python",
   "name": "python3"
  },
  "language_info": {
   "codemirror_mode": {
    "name": "ipython",
    "version": 3
   },
   "file_extension": ".py",
   "mimetype": "text/x-python",
   "name": "python",
   "nbconvert_exporter": "python",
   "pygments_lexer": "ipython3",
   "version": "3.6.8"
  }
 },
 "nbformat": 4,
 "nbformat_minor": 2
}
